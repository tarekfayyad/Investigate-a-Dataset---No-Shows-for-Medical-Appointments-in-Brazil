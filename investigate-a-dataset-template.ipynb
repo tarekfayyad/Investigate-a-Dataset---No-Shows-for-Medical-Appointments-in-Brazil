{
 "cells": [
  {
   "cell_type": "markdown",
   "metadata": {},
   "source": [
    "\n",
    "# Project: Investigate a Dataset (No Show Appointments)\n",
    "\n",
    "## Table of Contents\n",
    "<ul>\n",
    "<li><a href=\"#intro\">Introduction</a></li>\n",
    "<li><a href=\"#wrangling\">Data Wrangling</a></li>\n",
    "<li><a href=\"#eda\">Exploratory Data Analysis</a></li>\n",
    "<li><a href=\"#conclusions\">Conclusions</a></li>\n",
    "</ul>"
   ]
  },
  {
   "cell_type": "markdown",
   "metadata": {},
   "source": [
    "<a id='intro'></a>\n",
    "## Introduction\n",
    "\n",
    "> This dataset collects information\n",
    "from 100k medical appointments in\n",
    "Brazil and is focused on the question\n",
    "of whether or not patients show up\n",
    "for their appointment. A number of\n",
    "characteristics about the patient are\n",
    "included in each row.<br>\n",
    "● ‘ScheduledDay’ tells us on\n",
    "what day the patient set up their\n",
    "appointment.<br>\n",
    "● ‘Neighborhood’ indicates the\n",
    "location of the hospital.<br>\n",
    "● ‘Scholarship’ indicates\n",
    "whether or not the patient is\n",
    "enrolled in Brasilian welfare\n",
    "program Bolsa Família.<br>\n",
    "● Be careful about the encoding\n",
    "of the last column: it says ‘No’ if\n",
    "the patient showed up to their\n",
    "appointment, and ‘Yes’ if they\n",
    "did not show up.\n",
    "\n",
    "## Research Questions\n",
    "> What are Percentage of no_showed to showed patient?<br>what are factors affecting rate of no__showed patient? "
   ]
  },
  {
   "cell_type": "code",
   "execution_count": 1,
   "metadata": {},
   "outputs": [],
   "source": [
    "import pandas as pd\n",
    "import numpy as np\n",
    "import matplotlib.pyplot as plt\n",
    "%matplotlib inline\n",
    "import seaborn as sns\n"
   ]
  },
  {
   "cell_type": "markdown",
   "metadata": {},
   "source": [
    "<a id='wrangling'></a>\n",
    "## Data Wrangling\n",
    "\n",
    "\n",
    "### General Properties"
   ]
  },
  {
   "cell_type": "code",
   "execution_count": 2,
   "metadata": {},
   "outputs": [],
   "source": [
    "df = pd.read_csv('noshow.csv')"
   ]
  },
  {
   "cell_type": "code",
   "execution_count": 3,
   "metadata": {},
   "outputs": [
    {
     "data": {
      "text/html": [
       "<div>\n",
       "<style scoped>\n",
       "    .dataframe tbody tr th:only-of-type {\n",
       "        vertical-align: middle;\n",
       "    }\n",
       "\n",
       "    .dataframe tbody tr th {\n",
       "        vertical-align: top;\n",
       "    }\n",
       "\n",
       "    .dataframe thead th {\n",
       "        text-align: right;\n",
       "    }\n",
       "</style>\n",
       "<table border=\"1\" class=\"dataframe\">\n",
       "  <thead>\n",
       "    <tr style=\"text-align: right;\">\n",
       "      <th></th>\n",
       "      <th>PatientId</th>\n",
       "      <th>AppointmentID</th>\n",
       "      <th>Age</th>\n",
       "      <th>Scholarship</th>\n",
       "      <th>Hipertension</th>\n",
       "      <th>Diabetes</th>\n",
       "      <th>Alcoholism</th>\n",
       "      <th>Handcap</th>\n",
       "      <th>SMS_received</th>\n",
       "    </tr>\n",
       "  </thead>\n",
       "  <tbody>\n",
       "    <tr>\n",
       "      <th>count</th>\n",
       "      <td>1.105270e+05</td>\n",
       "      <td>1.105270e+05</td>\n",
       "      <td>110527.000000</td>\n",
       "      <td>110527.000000</td>\n",
       "      <td>110527.000000</td>\n",
       "      <td>110527.000000</td>\n",
       "      <td>110527.000000</td>\n",
       "      <td>110527.000000</td>\n",
       "      <td>110527.000000</td>\n",
       "    </tr>\n",
       "    <tr>\n",
       "      <th>mean</th>\n",
       "      <td>1.474963e+14</td>\n",
       "      <td>5.675305e+06</td>\n",
       "      <td>37.088874</td>\n",
       "      <td>0.098266</td>\n",
       "      <td>0.197246</td>\n",
       "      <td>0.071865</td>\n",
       "      <td>0.030400</td>\n",
       "      <td>0.022248</td>\n",
       "      <td>0.321026</td>\n",
       "    </tr>\n",
       "    <tr>\n",
       "      <th>std</th>\n",
       "      <td>2.560949e+14</td>\n",
       "      <td>7.129575e+04</td>\n",
       "      <td>23.110205</td>\n",
       "      <td>0.297675</td>\n",
       "      <td>0.397921</td>\n",
       "      <td>0.258265</td>\n",
       "      <td>0.171686</td>\n",
       "      <td>0.161543</td>\n",
       "      <td>0.466873</td>\n",
       "    </tr>\n",
       "    <tr>\n",
       "      <th>min</th>\n",
       "      <td>3.921784e+04</td>\n",
       "      <td>5.030230e+06</td>\n",
       "      <td>-1.000000</td>\n",
       "      <td>0.000000</td>\n",
       "      <td>0.000000</td>\n",
       "      <td>0.000000</td>\n",
       "      <td>0.000000</td>\n",
       "      <td>0.000000</td>\n",
       "      <td>0.000000</td>\n",
       "    </tr>\n",
       "    <tr>\n",
       "      <th>25%</th>\n",
       "      <td>4.172614e+12</td>\n",
       "      <td>5.640286e+06</td>\n",
       "      <td>18.000000</td>\n",
       "      <td>0.000000</td>\n",
       "      <td>0.000000</td>\n",
       "      <td>0.000000</td>\n",
       "      <td>0.000000</td>\n",
       "      <td>0.000000</td>\n",
       "      <td>0.000000</td>\n",
       "    </tr>\n",
       "    <tr>\n",
       "      <th>50%</th>\n",
       "      <td>3.173184e+13</td>\n",
       "      <td>5.680573e+06</td>\n",
       "      <td>37.000000</td>\n",
       "      <td>0.000000</td>\n",
       "      <td>0.000000</td>\n",
       "      <td>0.000000</td>\n",
       "      <td>0.000000</td>\n",
       "      <td>0.000000</td>\n",
       "      <td>0.000000</td>\n",
       "    </tr>\n",
       "    <tr>\n",
       "      <th>75%</th>\n",
       "      <td>9.439172e+13</td>\n",
       "      <td>5.725524e+06</td>\n",
       "      <td>55.000000</td>\n",
       "      <td>0.000000</td>\n",
       "      <td>0.000000</td>\n",
       "      <td>0.000000</td>\n",
       "      <td>0.000000</td>\n",
       "      <td>0.000000</td>\n",
       "      <td>1.000000</td>\n",
       "    </tr>\n",
       "    <tr>\n",
       "      <th>max</th>\n",
       "      <td>9.999816e+14</td>\n",
       "      <td>5.790484e+06</td>\n",
       "      <td>115.000000</td>\n",
       "      <td>1.000000</td>\n",
       "      <td>1.000000</td>\n",
       "      <td>1.000000</td>\n",
       "      <td>1.000000</td>\n",
       "      <td>4.000000</td>\n",
       "      <td>1.000000</td>\n",
       "    </tr>\n",
       "  </tbody>\n",
       "</table>\n",
       "</div>"
      ],
      "text/plain": [
       "          PatientId  AppointmentID            Age    Scholarship  \\\n",
       "count  1.105270e+05   1.105270e+05  110527.000000  110527.000000   \n",
       "mean   1.474963e+14   5.675305e+06      37.088874       0.098266   \n",
       "std    2.560949e+14   7.129575e+04      23.110205       0.297675   \n",
       "min    3.921784e+04   5.030230e+06      -1.000000       0.000000   \n",
       "25%    4.172614e+12   5.640286e+06      18.000000       0.000000   \n",
       "50%    3.173184e+13   5.680573e+06      37.000000       0.000000   \n",
       "75%    9.439172e+13   5.725524e+06      55.000000       0.000000   \n",
       "max    9.999816e+14   5.790484e+06     115.000000       1.000000   \n",
       "\n",
       "        Hipertension       Diabetes     Alcoholism        Handcap  \\\n",
       "count  110527.000000  110527.000000  110527.000000  110527.000000   \n",
       "mean        0.197246       0.071865       0.030400       0.022248   \n",
       "std         0.397921       0.258265       0.171686       0.161543   \n",
       "min         0.000000       0.000000       0.000000       0.000000   \n",
       "25%         0.000000       0.000000       0.000000       0.000000   \n",
       "50%         0.000000       0.000000       0.000000       0.000000   \n",
       "75%         0.000000       0.000000       0.000000       0.000000   \n",
       "max         1.000000       1.000000       1.000000       4.000000   \n",
       "\n",
       "        SMS_received  \n",
       "count  110527.000000  \n",
       "mean        0.321026  \n",
       "std         0.466873  \n",
       "min         0.000000  \n",
       "25%         0.000000  \n",
       "50%         0.000000  \n",
       "75%         1.000000  \n",
       "max         1.000000  "
      ]
     },
     "execution_count": 3,
     "metadata": {},
     "output_type": "execute_result"
    }
   ],
   "source": [
    "# general description of data\n",
    "df.describe()"
   ]
  },
  {
   "cell_type": "code",
   "execution_count": 4,
   "metadata": {},
   "outputs": [
    {
     "data": {
      "text/plain": [
       "(110527, 14)"
      ]
     },
     "execution_count": 4,
     "metadata": {},
     "output_type": "execute_result"
    }
   ],
   "source": [
    "# see how many columns and rows\n",
    "df.shape"
   ]
  },
  {
   "cell_type": "code",
   "execution_count": 5,
   "metadata": {},
   "outputs": [
    {
     "name": "stdout",
     "output_type": "stream",
     "text": [
      "<class 'pandas.core.frame.DataFrame'>\n",
      "RangeIndex: 110527 entries, 0 to 110526\n",
      "Data columns (total 14 columns):\n",
      " #   Column          Non-Null Count   Dtype  \n",
      "---  ------          --------------   -----  \n",
      " 0   PatientId       110527 non-null  float64\n",
      " 1   AppointmentID   110527 non-null  int64  \n",
      " 2   Gender          110527 non-null  object \n",
      " 3   ScheduledDay    110527 non-null  object \n",
      " 4   AppointmentDay  110527 non-null  object \n",
      " 5   Age             110527 non-null  int64  \n",
      " 6   Neighbourhood   110527 non-null  object \n",
      " 7   Scholarship     110527 non-null  int64  \n",
      " 8   Hipertension    110527 non-null  int64  \n",
      " 9   Diabetes        110527 non-null  int64  \n",
      " 10  Alcoholism      110527 non-null  int64  \n",
      " 11  Handcap         110527 non-null  int64  \n",
      " 12  SMS_received    110527 non-null  int64  \n",
      " 13  No-show         110527 non-null  object \n",
      "dtypes: float64(1), int64(8), object(5)\n",
      "memory usage: 11.8+ MB\n"
     ]
    }
   ],
   "source": [
    "# looking fo any missing data and checking data types\n",
    "df.info()"
   ]
  },
  {
   "cell_type": "code",
   "execution_count": 6,
   "metadata": {},
   "outputs": [
    {
     "data": {
      "text/plain": [
       "0"
      ]
     },
     "execution_count": 6,
     "metadata": {},
     "output_type": "execute_result"
    }
   ],
   "source": [
    "#checking for duplication\n",
    "sum(df.duplicated())"
   ]
  },
  {
   "cell_type": "markdown",
   "metadata": {},
   "source": [
    "### Data Cleaning "
   ]
  },
  {
   "cell_type": "code",
   "execution_count": 7,
   "metadata": {},
   "outputs": [],
   "source": [
    "# Change ScheduledDay, AppointmentID to datetime datatypes\n",
    "df['ScheduledDay'] = pd.to_datetime(df['ScheduledDay'], format=('%Y-%m-%dT%H:%M:%SZ'))\n",
    "df['AppointmentDay'] = pd.to_datetime(df['AppointmentDay'], format=('%Y-%m-%dT%H:%M:%SZ'))"
   ]
  },
  {
   "cell_type": "code",
   "execution_count": 8,
   "metadata": {},
   "outputs": [
    {
     "data": {
      "text/plain": [
       "PatientId                float64\n",
       "AppointmentID              int64\n",
       "Gender                    object\n",
       "ScheduledDay      datetime64[ns]\n",
       "AppointmentDay    datetime64[ns]\n",
       "Age                        int64\n",
       "Neighbourhood             object\n",
       "Scholarship                int64\n",
       "Hipertension               int64\n",
       "Diabetes                   int64\n",
       "Alcoholism                 int64\n",
       "Handcap                    int64\n",
       "SMS_received               int64\n",
       "No-show                   object\n",
       "dtype: object"
      ]
     },
     "execution_count": 8,
     "metadata": {},
     "output_type": "execute_result"
    }
   ],
   "source": [
    "df.dtypes"
   ]
  },
  {
   "cell_type": "markdown",
   "metadata": {},
   "source": [
    "__checking for weird value for each column and modifying it__"
   ]
  },
  {
   "cell_type": "code",
   "execution_count": 9,
   "metadata": {},
   "outputs": [
    {
     "data": {
      "text/plain": [
       "array(['No', 'Yes'], dtype=object)"
      ]
     },
     "execution_count": 9,
     "metadata": {},
     "output_type": "execute_result"
    }
   ],
   "source": [
    "df['No-show'].unique()"
   ]
  },
  {
   "cell_type": "code",
   "execution_count": 10,
   "metadata": {},
   "outputs": [],
   "source": [
    "# changing df['No-show'] value to 0,1\n",
    "df['No-show'].replace(['No', 'Yes'],['0', '1'],inplace = True)"
   ]
  },
  {
   "cell_type": "code",
   "execution_count": 11,
   "metadata": {},
   "outputs": [
    {
     "data": {
      "text/plain": [
       "array(['0', '1'], dtype=object)"
      ]
     },
     "execution_count": 11,
     "metadata": {},
     "output_type": "execute_result"
    }
   ],
   "source": [
    "df['No-show'].unique()"
   ]
  },
  {
   "cell_type": "code",
   "execution_count": 12,
   "metadata": {},
   "outputs": [
    {
     "data": {
      "text/plain": [
       "PatientId                float64\n",
       "AppointmentID              int64\n",
       "Gender                    object\n",
       "ScheduledDay      datetime64[ns]\n",
       "AppointmentDay    datetime64[ns]\n",
       "Age                        int64\n",
       "Neighbourhood             object\n",
       "Scholarship                int64\n",
       "Hipertension               int64\n",
       "Diabetes                   int64\n",
       "Alcoholism                 int64\n",
       "Handcap                    int64\n",
       "SMS_received               int64\n",
       "No-show                    int64\n",
       "dtype: object"
      ]
     },
     "execution_count": 12,
     "metadata": {},
     "output_type": "execute_result"
    }
   ],
   "source": [
    "# changing type of df['No-show'] to int\n",
    "df['No-show'] = pd.to_numeric(df['No-show'])\n",
    "df.dtypes"
   ]
  },
  {
   "cell_type": "code",
   "execution_count": 13,
   "metadata": {},
   "outputs": [
    {
     "data": {
      "text/plain": [
       "array([0, 1], dtype=int64)"
      ]
     },
     "execution_count": 13,
     "metadata": {},
     "output_type": "execute_result"
    }
   ],
   "source": [
    "# checking df['SMS_received']\n",
    "df['SMS_received'].unique()"
   ]
  },
  {
   "cell_type": "code",
   "execution_count": 14,
   "metadata": {},
   "outputs": [
    {
     "data": {
      "text/plain": [
       "array([0, 1, 2, 3, 4], dtype=int64)"
      ]
     },
     "execution_count": 14,
     "metadata": {},
     "output_type": "execute_result"
    }
   ],
   "source": [
    "# checking df['Handcap']\n",
    "df['Handcap'].unique()"
   ]
  },
  {
   "cell_type": "code",
   "execution_count": 15,
   "metadata": {},
   "outputs": [
    {
     "data": {
      "text/plain": [
       "0    108286\n",
       "1      2042\n",
       "2       183\n",
       "3        13\n",
       "4         3\n",
       "Name: Handcap, dtype: int64"
      ]
     },
     "execution_count": 15,
     "metadata": {},
     "output_type": "execute_result"
    }
   ],
   "source": [
    "df['Handcap'].value_counts()"
   ]
  },
  {
   "cell_type": "code",
   "execution_count": 16,
   "metadata": {},
   "outputs": [],
   "source": [
    "# converting degree 2,3,4 to 1 \n",
    "df['Handcap'].replace({2:1,3:1,4:1}, inplace = True)"
   ]
  },
  {
   "cell_type": "code",
   "execution_count": 17,
   "metadata": {},
   "outputs": [
    {
     "data": {
      "text/plain": [
       "0    108286\n",
       "1      2241\n",
       "Name: Handcap, dtype: int64"
      ]
     },
     "execution_count": 17,
     "metadata": {},
     "output_type": "execute_result"
    }
   ],
   "source": [
    "df['Handcap'].value_counts()"
   ]
  },
  {
   "cell_type": "code",
   "execution_count": 18,
   "metadata": {},
   "outputs": [
    {
     "data": {
      "text/plain": [
       "array([0, 1], dtype=int64)"
      ]
     },
     "execution_count": 18,
     "metadata": {},
     "output_type": "execute_result"
    }
   ],
   "source": [
    "# checking df['Alcoholism']\n",
    "df['Alcoholism'].unique()"
   ]
  },
  {
   "cell_type": "code",
   "execution_count": 19,
   "metadata": {},
   "outputs": [
    {
     "data": {
      "text/plain": [
       "array([0, 1], dtype=int64)"
      ]
     },
     "execution_count": 19,
     "metadata": {},
     "output_type": "execute_result"
    }
   ],
   "source": [
    "# checking df['Diabetes']\n",
    "df['Diabetes'].unique()"
   ]
  },
  {
   "cell_type": "code",
   "execution_count": 20,
   "metadata": {},
   "outputs": [
    {
     "data": {
      "text/plain": [
       "array([1, 0], dtype=int64)"
      ]
     },
     "execution_count": 20,
     "metadata": {},
     "output_type": "execute_result"
    }
   ],
   "source": [
    "# checking df['Hipertension']\n",
    "df['Hipertension'].unique()"
   ]
  },
  {
   "cell_type": "code",
   "execution_count": 21,
   "metadata": {},
   "outputs": [
    {
     "data": {
      "text/plain": [
       "array([0, 1], dtype=int64)"
      ]
     },
     "execution_count": 21,
     "metadata": {},
     "output_type": "execute_result"
    }
   ],
   "source": [
    "# checking df['Scholarship']\n",
    "df['Scholarship'].unique()"
   ]
  },
  {
   "cell_type": "code",
   "execution_count": 22,
   "metadata": {},
   "outputs": [
    {
     "data": {
      "text/plain": [
       "array(['JARDIM DA PENHA', 'MATA DA PRAIA', 'PONTAL DE CAMBURI',\n",
       "       'REPÚBLICA', 'GOIABEIRAS', 'ANDORINHAS', 'CONQUISTA',\n",
       "       'NOVA PALESTINA', 'DA PENHA', 'TABUAZEIRO', 'BENTO FERREIRA',\n",
       "       'SÃO PEDRO', 'SANTA MARTHA', 'SÃO CRISTÓVÃO', 'MARUÍPE',\n",
       "       'GRANDE VITÓRIA', 'SÃO BENEDITO', 'ILHA DAS CAIEIRAS',\n",
       "       'SANTO ANDRÉ', 'SOLON BORGES', 'BONFIM', 'JARDIM CAMBURI',\n",
       "       'MARIA ORTIZ', 'JABOUR', 'ANTÔNIO HONÓRIO', 'RESISTÊNCIA',\n",
       "       'ILHA DE SANTA MARIA', 'JUCUTUQUARA', 'MONTE BELO',\n",
       "       'MÁRIO CYPRESTE', 'SANTO ANTÔNIO', 'BELA VISTA', 'PRAIA DO SUÁ',\n",
       "       'SANTA HELENA', 'ITARARÉ', 'INHANGUETÁ', 'UNIVERSITÁRIO',\n",
       "       'SÃO JOSÉ', 'REDENÇÃO', 'SANTA CLARA', 'CENTRO', 'PARQUE MOSCOSO',\n",
       "       'DO MOSCOSO', 'SANTOS DUMONT', 'CARATOÍRA', 'ARIOVALDO FAVALESSA',\n",
       "       'ILHA DO FRADE', 'GURIGICA', 'JOANA D´ARC', 'CONSOLAÇÃO',\n",
       "       'PRAIA DO CANTO', 'BOA VISTA', 'MORADA DE CAMBURI', 'SANTA LUÍZA',\n",
       "       'SANTA LÚCIA', 'BARRO VERMELHO', 'ESTRELINHA', 'FORTE SÃO JOÃO',\n",
       "       'FONTE GRANDE', 'ENSEADA DO SUÁ', 'SANTOS REIS', 'PIEDADE',\n",
       "       'JESUS DE NAZARETH', 'SANTA TEREZA', 'CRUZAMENTO',\n",
       "       'ILHA DO PRÍNCIPE', 'ROMÃO', 'COMDUSA', 'SANTA CECÍLIA',\n",
       "       'VILA RUBIM', 'DE LOURDES', 'DO QUADRO', 'DO CABRAL', 'HORTO',\n",
       "       'SEGURANÇA DO LAR', 'ILHA DO BOI', 'FRADINHOS', 'NAZARETH',\n",
       "       'AEROPORTO', 'ILHAS OCEÂNICAS DE TRINDADE', 'PARQUE INDUSTRIAL'],\n",
       "      dtype=object)"
      ]
     },
     "execution_count": 22,
     "metadata": {},
     "output_type": "execute_result"
    }
   ],
   "source": [
    "# checking df['Neighbourhood']\n",
    "df['Neighbourhood'].unique()"
   ]
  },
  {
   "cell_type": "code",
   "execution_count": 23,
   "metadata": {},
   "outputs": [
    {
     "data": {
      "text/plain": [
       "array([ 62,  56,   8,  76,  23,  39,  21,  19,  30,  29,  22,  28,  54,\n",
       "        15,  50,  40,  46,   4,  13,  65,  45,  51,  32,  12,  61,  38,\n",
       "        79,  18,  63,  64,  85,  59,  55,  71,  49,  78,  31,  58,  27,\n",
       "         6,   2,  11,   7,   0,   3,   1,  69,  68,  60,  67,  36,  10,\n",
       "        35,  20,  26,  34,  33,  16,  42,   5,  47,  17,  41,  44,  37,\n",
       "        24,  66,  77,  81,  70,  53,  75,  73,  52,  74,  43,  89,  57,\n",
       "        14,   9,  48,  83,  72,  25,  80,  87,  88,  84,  82,  90,  94,\n",
       "        86,  91,  98,  92,  96,  93,  95,  97, 102, 115, 100,  99,  -1],\n",
       "      dtype=int64)"
      ]
     },
     "execution_count": 23,
     "metadata": {},
     "output_type": "execute_result"
    }
   ],
   "source": [
    "# checking df['Age']\n",
    "df['Age'].unique()"
   ]
  },
  {
   "cell_type": "code",
   "execution_count": 24,
   "metadata": {},
   "outputs": [],
   "source": [
    "# drop age <0\n",
    "df[df['Age']==-1]\n",
    "df.drop(index = df[df['Age']==-1].index , inplace = True)"
   ]
  },
  {
   "cell_type": "code",
   "execution_count": 25,
   "metadata": {},
   "outputs": [],
   "source": [
    "# drop age >100\n",
    "df[df['Age']>100]\n",
    "df.drop(index = df[df['Age']>100].index , inplace = True)"
   ]
  },
  {
   "cell_type": "code",
   "execution_count": 26,
   "metadata": {},
   "outputs": [
    {
     "data": {
      "text/plain": [
       "array(['F', 'M'], dtype=object)"
      ]
     },
     "execution_count": 26,
     "metadata": {},
     "output_type": "execute_result"
    }
   ],
   "source": [
    "# checking df['Gender']\n",
    "df['Gender'].unique()"
   ]
  },
  {
   "cell_type": "code",
   "execution_count": 27,
   "metadata": {},
   "outputs": [
    {
     "data": {
      "text/plain": [
       "PatientId                float64\n",
       "AppointmentID              int64\n",
       "Gender                    object\n",
       "ScheduledDay      datetime64[ns]\n",
       "AppointmentDay    datetime64[ns]\n",
       "Age                        int64\n",
       "Neighbourhood             object\n",
       "Scholarship                 bool\n",
       "Hipertension                bool\n",
       "Diabetes                    bool\n",
       "Alcoholism                  bool\n",
       "Handcap                     bool\n",
       "SMS_received                bool\n",
       "No-show                     bool\n",
       "dtype: object"
      ]
     },
     "execution_count": 27,
     "metadata": {},
     "output_type": "execute_result"
    }
   ],
   "source": [
    "# modifiying types of scholarship, hipertension, diabetes, alcoholism, handcap, sms_received, no_show to bool for investigation\n",
    "df['Scholarship'] = df['Scholarship'].astype(bool)\n",
    "df['Hipertension'] = df['Hipertension'].astype(bool)\n",
    "df['Diabetes'] = df['Diabetes'].astype(bool)\n",
    "df['Alcoholism'] = df['Alcoholism'].astype(bool)\n",
    "df['Scholarship'] = df['Scholarship'].astype(bool)\n",
    "df['Handcap'] = df['Handcap'].astype(bool)\n",
    "df['SMS_received'] = df['SMS_received'].astype(bool)\n",
    "df['No-show'] = df['No-show'].astype(bool)\n",
    "df.dtypes"
   ]
  },
  {
   "cell_type": "code",
   "execution_count": 28,
   "metadata": {},
   "outputs": [],
   "source": [
    "# modifiying columns names\n",
    "df.rename(columns={'PatientId':'Patient_Id','AppointmentID':'Appointment_ID','ScheduledDay':'Scheduled_Day','AppointmentDay':'Appointment_Day','Hipertension':'Hypertension','Handcap':'Handicap','No-show':'No_show'},inplace=True)\n",
    "df.rename(columns=lambda x: x.strip().lower(),inplace=True)"
   ]
  },
  {
   "cell_type": "code",
   "execution_count": 29,
   "metadata": {},
   "outputs": [
    {
     "data": {
      "text/plain": [
       "617"
      ]
     },
     "execution_count": 29,
     "metadata": {},
     "output_type": "execute_result"
    }
   ],
   "source": [
    "# see ifther are any duplicated rows after dropping appointment_id\n",
    "df.drop(columns=['appointment_id'],inplace = True)\n",
    "sum(df.duplicated())"
   ]
  },
  {
   "cell_type": "code",
   "execution_count": 30,
   "metadata": {},
   "outputs": [],
   "source": [
    "# drop duplicated rows\n",
    "df.drop_duplicates(keep = 'first',inplace = True)"
   ]
  },
  {
   "cell_type": "code",
   "execution_count": 31,
   "metadata": {},
   "outputs": [],
   "source": [
    "# make df['scheduled_day'] with no hour format like df['appointment_day']\n",
    "df['scheduled_day'] = df['scheduled_day'].astype(str)"
   ]
  },
  {
   "cell_type": "code",
   "execution_count": 32,
   "metadata": {},
   "outputs": [],
   "source": [
    "df['scheduled_day'] = df['scheduled_day'].apply(lambda x: x.split()[0])"
   ]
  },
  {
   "cell_type": "code",
   "execution_count": 33,
   "metadata": {},
   "outputs": [
    {
     "data": {
      "text/plain": [
       "patient_id                float64\n",
       "gender                     object\n",
       "scheduled_day      datetime64[ns]\n",
       "appointment_day    datetime64[ns]\n",
       "age                         int64\n",
       "neighbourhood              object\n",
       "scholarship                  bool\n",
       "hypertension                 bool\n",
       "diabetes                     bool\n",
       "alcoholism                   bool\n",
       "handicap                     bool\n",
       "sms_received                 bool\n",
       "no_show                      bool\n",
       "dtype: object"
      ]
     },
     "execution_count": 33,
     "metadata": {},
     "output_type": "execute_result"
    }
   ],
   "source": [
    "df['scheduled_day'] = pd.to_datetime(df['scheduled_day'])\n",
    "df.dtypes"
   ]
  },
  {
   "cell_type": "code",
   "execution_count": 34,
   "metadata": {},
   "outputs": [
    {
     "data": {
      "text/html": [
       "<div>\n",
       "<style scoped>\n",
       "    .dataframe tbody tr th:only-of-type {\n",
       "        vertical-align: middle;\n",
       "    }\n",
       "\n",
       "    .dataframe tbody tr th {\n",
       "        vertical-align: top;\n",
       "    }\n",
       "\n",
       "    .dataframe thead th {\n",
       "        text-align: right;\n",
       "    }\n",
       "</style>\n",
       "<table border=\"1\" class=\"dataframe\">\n",
       "  <thead>\n",
       "    <tr style=\"text-align: right;\">\n",
       "      <th></th>\n",
       "      <th>patient_id</th>\n",
       "      <th>gender</th>\n",
       "      <th>scheduled_day</th>\n",
       "      <th>appointment_day</th>\n",
       "      <th>age</th>\n",
       "      <th>neighbourhood</th>\n",
       "      <th>scholarship</th>\n",
       "      <th>hypertension</th>\n",
       "      <th>diabetes</th>\n",
       "      <th>alcoholism</th>\n",
       "      <th>handicap</th>\n",
       "      <th>sms_received</th>\n",
       "      <th>no_show</th>\n",
       "    </tr>\n",
       "  </thead>\n",
       "  <tbody>\n",
       "    <tr>\n",
       "      <th>0</th>\n",
       "      <td>2.987250e+13</td>\n",
       "      <td>F</td>\n",
       "      <td>2016-04-29</td>\n",
       "      <td>2016-04-29</td>\n",
       "      <td>62</td>\n",
       "      <td>JARDIM DA PENHA</td>\n",
       "      <td>False</td>\n",
       "      <td>True</td>\n",
       "      <td>False</td>\n",
       "      <td>False</td>\n",
       "      <td>False</td>\n",
       "      <td>False</td>\n",
       "      <td>False</td>\n",
       "    </tr>\n",
       "    <tr>\n",
       "      <th>1</th>\n",
       "      <td>5.589978e+14</td>\n",
       "      <td>M</td>\n",
       "      <td>2016-04-29</td>\n",
       "      <td>2016-04-29</td>\n",
       "      <td>56</td>\n",
       "      <td>JARDIM DA PENHA</td>\n",
       "      <td>False</td>\n",
       "      <td>False</td>\n",
       "      <td>False</td>\n",
       "      <td>False</td>\n",
       "      <td>False</td>\n",
       "      <td>False</td>\n",
       "      <td>False</td>\n",
       "    </tr>\n",
       "    <tr>\n",
       "      <th>2</th>\n",
       "      <td>4.262962e+12</td>\n",
       "      <td>F</td>\n",
       "      <td>2016-04-29</td>\n",
       "      <td>2016-04-29</td>\n",
       "      <td>62</td>\n",
       "      <td>MATA DA PRAIA</td>\n",
       "      <td>False</td>\n",
       "      <td>False</td>\n",
       "      <td>False</td>\n",
       "      <td>False</td>\n",
       "      <td>False</td>\n",
       "      <td>False</td>\n",
       "      <td>False</td>\n",
       "    </tr>\n",
       "  </tbody>\n",
       "</table>\n",
       "</div>"
      ],
      "text/plain": [
       "     patient_id gender scheduled_day appointment_day  age    neighbourhood  \\\n",
       "0  2.987250e+13      F    2016-04-29      2016-04-29   62  JARDIM DA PENHA   \n",
       "1  5.589978e+14      M    2016-04-29      2016-04-29   56  JARDIM DA PENHA   \n",
       "2  4.262962e+12      F    2016-04-29      2016-04-29   62    MATA DA PRAIA   \n",
       "\n",
       "   scholarship  hypertension  diabetes  alcoholism  handicap  sms_received  \\\n",
       "0        False          True     False       False     False         False   \n",
       "1        False         False     False       False     False         False   \n",
       "2        False         False     False       False     False         False   \n",
       "\n",
       "   no_show  \n",
       "0    False  \n",
       "1    False  \n",
       "2    False  "
      ]
     },
     "execution_count": 34,
     "metadata": {},
     "output_type": "execute_result"
    }
   ],
   "source": [
    "df.head(3)"
   ]
  },
  {
   "cell_type": "code",
   "execution_count": 35,
   "metadata": {},
   "outputs": [
    {
     "data": {
      "text/html": [
       "<div>\n",
       "<style scoped>\n",
       "    .dataframe tbody tr th:only-of-type {\n",
       "        vertical-align: middle;\n",
       "    }\n",
       "\n",
       "    .dataframe tbody tr th {\n",
       "        vertical-align: top;\n",
       "    }\n",
       "\n",
       "    .dataframe thead th {\n",
       "        text-align: right;\n",
       "    }\n",
       "</style>\n",
       "<table border=\"1\" class=\"dataframe\">\n",
       "  <thead>\n",
       "    <tr style=\"text-align: right;\">\n",
       "      <th></th>\n",
       "      <th>patient_id</th>\n",
       "      <th>gender</th>\n",
       "      <th>scheduled_day</th>\n",
       "      <th>appointment_day</th>\n",
       "      <th>age</th>\n",
       "      <th>neighbourhood</th>\n",
       "      <th>scholarship</th>\n",
       "      <th>hypertension</th>\n",
       "      <th>diabetes</th>\n",
       "      <th>alcoholism</th>\n",
       "      <th>handicap</th>\n",
       "      <th>sms_received</th>\n",
       "      <th>no_show</th>\n",
       "      <th>time_delta</th>\n",
       "    </tr>\n",
       "  </thead>\n",
       "  <tbody>\n",
       "    <tr>\n",
       "      <th>27033</th>\n",
       "      <td>7.839273e+12</td>\n",
       "      <td>M</td>\n",
       "      <td>2016-05-10</td>\n",
       "      <td>2016-05-09</td>\n",
       "      <td>38</td>\n",
       "      <td>RESISTÊNCIA</td>\n",
       "      <td>False</td>\n",
       "      <td>False</td>\n",
       "      <td>False</td>\n",
       "      <td>False</td>\n",
       "      <td>True</td>\n",
       "      <td>False</td>\n",
       "      <td>True</td>\n",
       "      <td>-1 days</td>\n",
       "    </tr>\n",
       "    <tr>\n",
       "      <th>55226</th>\n",
       "      <td>7.896294e+12</td>\n",
       "      <td>F</td>\n",
       "      <td>2016-05-18</td>\n",
       "      <td>2016-05-17</td>\n",
       "      <td>19</td>\n",
       "      <td>SANTO ANTÔNIO</td>\n",
       "      <td>False</td>\n",
       "      <td>False</td>\n",
       "      <td>False</td>\n",
       "      <td>False</td>\n",
       "      <td>True</td>\n",
       "      <td>False</td>\n",
       "      <td>True</td>\n",
       "      <td>-1 days</td>\n",
       "    </tr>\n",
       "    <tr>\n",
       "      <th>64175</th>\n",
       "      <td>2.425226e+13</td>\n",
       "      <td>F</td>\n",
       "      <td>2016-05-05</td>\n",
       "      <td>2016-05-04</td>\n",
       "      <td>22</td>\n",
       "      <td>CONSOLAÇÃO</td>\n",
       "      <td>False</td>\n",
       "      <td>False</td>\n",
       "      <td>False</td>\n",
       "      <td>False</td>\n",
       "      <td>False</td>\n",
       "      <td>False</td>\n",
       "      <td>True</td>\n",
       "      <td>-1 days</td>\n",
       "    </tr>\n",
       "    <tr>\n",
       "      <th>71533</th>\n",
       "      <td>9.982316e+14</td>\n",
       "      <td>F</td>\n",
       "      <td>2016-05-11</td>\n",
       "      <td>2016-05-05</td>\n",
       "      <td>81</td>\n",
       "      <td>SANTO ANTÔNIO</td>\n",
       "      <td>False</td>\n",
       "      <td>False</td>\n",
       "      <td>False</td>\n",
       "      <td>False</td>\n",
       "      <td>False</td>\n",
       "      <td>False</td>\n",
       "      <td>True</td>\n",
       "      <td>-6 days</td>\n",
       "    </tr>\n",
       "    <tr>\n",
       "      <th>72362</th>\n",
       "      <td>3.787482e+12</td>\n",
       "      <td>M</td>\n",
       "      <td>2016-05-04</td>\n",
       "      <td>2016-05-03</td>\n",
       "      <td>7</td>\n",
       "      <td>TABUAZEIRO</td>\n",
       "      <td>False</td>\n",
       "      <td>False</td>\n",
       "      <td>False</td>\n",
       "      <td>False</td>\n",
       "      <td>False</td>\n",
       "      <td>False</td>\n",
       "      <td>True</td>\n",
       "      <td>-1 days</td>\n",
       "    </tr>\n",
       "  </tbody>\n",
       "</table>\n",
       "</div>"
      ],
      "text/plain": [
       "         patient_id gender scheduled_day appointment_day  age  neighbourhood  \\\n",
       "27033  7.839273e+12      M    2016-05-10      2016-05-09   38    RESISTÊNCIA   \n",
       "55226  7.896294e+12      F    2016-05-18      2016-05-17   19  SANTO ANTÔNIO   \n",
       "64175  2.425226e+13      F    2016-05-05      2016-05-04   22     CONSOLAÇÃO   \n",
       "71533  9.982316e+14      F    2016-05-11      2016-05-05   81  SANTO ANTÔNIO   \n",
       "72362  3.787482e+12      M    2016-05-04      2016-05-03    7     TABUAZEIRO   \n",
       "\n",
       "       scholarship  hypertension  diabetes  alcoholism  handicap  \\\n",
       "27033        False         False     False       False      True   \n",
       "55226        False         False     False       False      True   \n",
       "64175        False         False     False       False     False   \n",
       "71533        False         False     False       False     False   \n",
       "72362        False         False     False       False     False   \n",
       "\n",
       "       sms_received  no_show time_delta  \n",
       "27033         False     True    -1 days  \n",
       "55226         False     True    -1 days  \n",
       "64175         False     True    -1 days  \n",
       "71533         False     True    -6 days  \n",
       "72362         False     True    -1 days  "
      ]
     },
     "execution_count": 35,
     "metadata": {},
     "output_type": "execute_result"
    }
   ],
   "source": [
    "# see if there is appointment_day before scheduled_day \n",
    "df['time_delta'] = df['appointment_day'] - df['scheduled_day']\n",
    "df[df['time_delta']<'0 days']"
   ]
  },
  {
   "cell_type": "code",
   "execution_count": 36,
   "metadata": {},
   "outputs": [],
   "source": [
    "# dropping rows with time delta <0\n",
    "df.drop(index = df[df['time_delta']<'0 days'].index , inplace = True)"
   ]
  },
  {
   "cell_type": "code",
   "execution_count": 37,
   "metadata": {},
   "outputs": [],
   "source": [
    "# make columns with week day for investigation\n",
    "df['week_day'] = df['appointment_day'].dt.day_name()"
   ]
  },
  {
   "cell_type": "code",
   "execution_count": 38,
   "metadata": {},
   "outputs": [],
   "source": [
    "# saving cleaned and modified CVS\n",
    "df.to_csv('modified_noshow.csv',index=False)"
   ]
  },
  {
   "cell_type": "markdown",
   "metadata": {},
   "source": [
    "<a id='eda'></a>\n",
    "## Exploratory Data Analysis\n",
    "\n",
    "\n",
    "### Research Question 1 (What are Percentage of no_showed to showed patient?)"
   ]
  },
  {
   "cell_type": "code",
   "execution_count": 39,
   "metadata": {},
   "outputs": [],
   "source": [
    "Total_Show_Per = df['no_show'].value_counts()"
   ]
  },
  {
   "cell_type": "code",
   "execution_count": 40,
   "metadata": {},
   "outputs": [],
   "source": [
    "per_no_show = df['no_show'].value_counts()[1]/df['no_show'].value_counts()*100\n",
    "per_show = df['no_show'].value_counts()[0]/df['no_show'].value_counts()*100"
   ]
  },
  {
   "cell_type": "code",
   "execution_count": 41,
   "metadata": {},
   "outputs": [
    {
     "data": {
      "image/png": "[encoded data removed]",
      "text/plain": [
       "<Figure size 720x720 with 1 Axes>"
      ]
     },
     "metadata": {},
     "output_type": "display_data"
    }
   ],
   "source": [
    "Total_Show_Per.plot(kind = 'pie', figsize = (10,10),autopct='%1.1f%%');\n",
    "plt.title('Percentage_of_show_to_no_show',fontsize = 15);"
   ]
  },
  {
   "cell_type": "markdown",
   "metadata": {},
   "source": [
    "__From above, we can see that percentage of patient showed at appointment date higher tha percentage of patient no showed at appointmnet date__"
   ]
  },
  {
   "cell_type": "markdown",
   "metadata": {},
   "source": [
    "### Research Question 2  (what are factors affecting rate of no__showed patient?)"
   ]
  },
  {
   "cell_type": "markdown",
   "metadata": {
    "collapsed": true
   },
   "source": [
    "__Factor_1 : neighbourhood__"
   ]
  },
  {
   "cell_type": "code",
   "execution_count": 42,
   "metadata": {},
   "outputs": [],
   "source": [
    "neighbourhood_shown_per = df.groupby('no_show')['neighbourhood'].value_counts(True)[0]*100"
   ]
  },
  {
   "cell_type": "code",
   "execution_count": 43,
   "metadata": {},
   "outputs": [],
   "source": [
    "neighbourhood_not_shown_per = df.groupby('no_show')['neighbourhood'].value_counts(True)[1]*100"
   ]
  },
  {
   "cell_type": "code",
   "execution_count": 44,
   "metadata": {},
   "outputs": [],
   "source": [
    "df_showed = pd.DataFrame(neighbourhood_shown_per)\n",
    "df_not_showed = pd.DataFrame(neighbourhood_not_shown_per)"
   ]
  },
  {
   "cell_type": "code",
   "execution_count": 45,
   "metadata": {},
   "outputs": [],
   "source": [
    "df_showed.rename(columns={'neighbourhood':'%showed'},inplace = True)\n",
    "df_not_showed.rename(columns={'neighbourhood':'%_not_showed'},inplace = True)"
   ]
  },
  {
   "cell_type": "code",
   "execution_count": 46,
   "metadata": {},
   "outputs": [],
   "source": [
    "df_showed.reset_index(inplace = True)\n",
    "df_not_showed.reset_index(inplace = True)"
   ]
  },
  {
   "cell_type": "code",
   "execution_count": 47,
   "metadata": {},
   "outputs": [],
   "source": [
    "df_combined = df_showed.merge(df_not_showed, left_on='neighbourhood', right_on='neighbourhood', how='outer')"
   ]
  },
  {
   "cell_type": "code",
   "execution_count": 48,
   "metadata": {},
   "outputs": [
    {
     "data": {
      "text/html": [
       "<div>\n",
       "<style scoped>\n",
       "    .dataframe tbody tr th:only-of-type {\n",
       "        vertical-align: middle;\n",
       "    }\n",
       "\n",
       "    .dataframe tbody tr th {\n",
       "        vertical-align: top;\n",
       "    }\n",
       "\n",
       "    .dataframe thead th {\n",
       "        text-align: right;\n",
       "    }\n",
       "</style>\n",
       "<table border=\"1\" class=\"dataframe\">\n",
       "  <thead>\n",
       "    <tr style=\"text-align: right;\">\n",
       "      <th></th>\n",
       "      <th>neighbourhood</th>\n",
       "      <th>%showed</th>\n",
       "      <th>%_not_showed</th>\n",
       "    </tr>\n",
       "  </thead>\n",
       "  <tbody>\n",
       "    <tr>\n",
       "      <th>0</th>\n",
       "      <td>JARDIM CAMBURI</td>\n",
       "      <td>7.052472</td>\n",
       "      <td>6.466649</td>\n",
       "    </tr>\n",
       "    <tr>\n",
       "      <th>1</th>\n",
       "      <td>MARIA ORTIZ</td>\n",
       "      <td>5.221016</td>\n",
       "      <td>5.516336</td>\n",
       "    </tr>\n",
       "    <tr>\n",
       "      <th>2</th>\n",
       "      <td>RESISTÊNCIA</td>\n",
       "      <td>3.988656</td>\n",
       "      <td>4.000362</td>\n",
       "    </tr>\n",
       "    <tr>\n",
       "      <th>3</th>\n",
       "      <td>JARDIM DA PENHA</td>\n",
       "      <td>3.692525</td>\n",
       "      <td>2.855462</td>\n",
       "    </tr>\n",
       "    <tr>\n",
       "      <th>4</th>\n",
       "      <td>CENTRO</td>\n",
       "      <td>2.978394</td>\n",
       "      <td>3.145081</td>\n",
       "    </tr>\n",
       "    <tr>\n",
       "      <th>5</th>\n",
       "      <td>SANTA MARTHA</td>\n",
       "      <td>2.977255</td>\n",
       "      <td>2.212870</td>\n",
       "    </tr>\n",
       "    <tr>\n",
       "      <th>6</th>\n",
       "      <td>ITARARÉ</td>\n",
       "      <td>2.924862</td>\n",
       "      <td>4.081817</td>\n",
       "    </tr>\n",
       "    <tr>\n",
       "      <th>7</th>\n",
       "      <td>TABUAZEIRO</td>\n",
       "      <td>2.910056</td>\n",
       "      <td>2.565843</td>\n",
       "    </tr>\n",
       "    <tr>\n",
       "      <th>8</th>\n",
       "      <td>SANTO ANTÔNIO</td>\n",
       "      <td>2.568366</td>\n",
       "      <td>2.154041</td>\n",
       "    </tr>\n",
       "    <tr>\n",
       "      <th>9</th>\n",
       "      <td>BONFIM</td>\n",
       "      <td>2.520530</td>\n",
       "      <td>2.479862</td>\n",
       "    </tr>\n",
       "    <tr>\n",
       "      <th>10</th>\n",
       "      <td>JESUS DE NAZARETH</td>\n",
       "      <td>2.456748</td>\n",
       "      <td>3.145081</td>\n",
       "    </tr>\n",
       "    <tr>\n",
       "      <th>11</th>\n",
       "      <td>JABOUR</td>\n",
       "      <td>2.341712</td>\n",
       "      <td>2.040909</td>\n",
       "    </tr>\n",
       "    <tr>\n",
       "      <th>12</th>\n",
       "      <td>SANTO ANDRÉ</td>\n",
       "      <td>2.337156</td>\n",
       "      <td>2.280749</td>\n",
       "    </tr>\n",
       "    <tr>\n",
       "      <th>13</th>\n",
       "      <td>CARATOÍRA</td>\n",
       "      <td>2.230094</td>\n",
       "      <td>2.638248</td>\n",
       "    </tr>\n",
       "    <tr>\n",
       "      <th>14</th>\n",
       "      <td>SÃO PEDRO</td>\n",
       "      <td>2.189091</td>\n",
       "      <td>2.307901</td>\n",
       "    </tr>\n",
       "    <tr>\n",
       "      <th>15</th>\n",
       "      <td>NOVA PALESTINA</td>\n",
       "      <td>2.119614</td>\n",
       "      <td>1.819169</td>\n",
       "    </tr>\n",
       "    <tr>\n",
       "      <th>16</th>\n",
       "      <td>DA PENHA</td>\n",
       "      <td>2.021663</td>\n",
       "      <td>1.936827</td>\n",
       "    </tr>\n",
       "    <tr>\n",
       "      <th>17</th>\n",
       "      <td>ILHA DO PRÍNCIPE</td>\n",
       "      <td>1.974966</td>\n",
       "      <td>2.407458</td>\n",
       "    </tr>\n",
       "    <tr>\n",
       "      <th>18</th>\n",
       "      <td>ROMÃO</td>\n",
       "      <td>1.971549</td>\n",
       "      <td>2.104263</td>\n",
       "    </tr>\n",
       "    <tr>\n",
       "      <th>19</th>\n",
       "      <td>ANDORINHAS</td>\n",
       "      <td>1.931685</td>\n",
       "      <td>2.240022</td>\n",
       "    </tr>\n",
       "    <tr>\n",
       "      <th>20</th>\n",
       "      <td>GURIGICA</td>\n",
       "      <td>1.776786</td>\n",
       "      <td>2.054485</td>\n",
       "    </tr>\n",
       "    <tr>\n",
       "      <th>21</th>\n",
       "      <td>SÃO JOSÉ</td>\n",
       "      <td>1.748311</td>\n",
       "      <td>1.932302</td>\n",
       "    </tr>\n",
       "    <tr>\n",
       "      <th>22</th>\n",
       "      <td>FORTE SÃO JOÃO</td>\n",
       "      <td>1.742617</td>\n",
       "      <td>1.525025</td>\n",
       "    </tr>\n",
       "    <tr>\n",
       "      <th>23</th>\n",
       "      <td>ILHA DE SANTA MARIA</td>\n",
       "      <td>1.735783</td>\n",
       "      <td>1.633632</td>\n",
       "    </tr>\n",
       "    <tr>\n",
       "      <th>24</th>\n",
       "      <td>BELA VISTA</td>\n",
       "      <td>1.724393</td>\n",
       "      <td>1.719613</td>\n",
       "    </tr>\n",
       "    <tr>\n",
       "      <th>25</th>\n",
       "      <td>MARUÍPE</td>\n",
       "      <td>1.675418</td>\n",
       "      <td>1.900624</td>\n",
       "    </tr>\n",
       "    <tr>\n",
       "      <th>26</th>\n",
       "      <td>SÃO CRISTÓVÃO</td>\n",
       "      <td>1.673140</td>\n",
       "      <td>1.638157</td>\n",
       "    </tr>\n",
       "    <tr>\n",
       "      <th>27</th>\n",
       "      <td>REDENÇÃO</td>\n",
       "      <td>1.455597</td>\n",
       "      <td>1.244457</td>\n",
       "    </tr>\n",
       "    <tr>\n",
       "      <th>28</th>\n",
       "      <td>JOANA D´ARC</td>\n",
       "      <td>1.323477</td>\n",
       "      <td>1.167526</td>\n",
       "    </tr>\n",
       "    <tr>\n",
       "      <th>29</th>\n",
       "      <td>SÃO BENEDITO</td>\n",
       "      <td>1.310949</td>\n",
       "      <td>1.276134</td>\n",
       "    </tr>\n",
       "    <tr>\n",
       "      <th>30</th>\n",
       "      <td>CONSOLAÇÃO</td>\n",
       "      <td>1.290447</td>\n",
       "      <td>1.063445</td>\n",
       "    </tr>\n",
       "    <tr>\n",
       "      <th>31</th>\n",
       "      <td>CRUZAMENTO</td>\n",
       "      <td>1.238055</td>\n",
       "      <td>1.357589</td>\n",
       "    </tr>\n",
       "    <tr>\n",
       "      <th>32</th>\n",
       "      <td>SANTA TEREZA</td>\n",
       "      <td>1.203886</td>\n",
       "      <td>1.221830</td>\n",
       "    </tr>\n",
       "    <tr>\n",
       "      <th>33</th>\n",
       "      <td>PRAIA DO SUÁ</td>\n",
       "      <td>1.132131</td>\n",
       "      <td>1.330437</td>\n",
       "    </tr>\n",
       "    <tr>\n",
       "      <th>34</th>\n",
       "      <td>SANTOS DUMONT</td>\n",
       "      <td>1.031902</td>\n",
       "      <td>1.665309</td>\n",
       "    </tr>\n",
       "    <tr>\n",
       "      <th>35</th>\n",
       "      <td>INHANGUETÁ</td>\n",
       "      <td>0.973815</td>\n",
       "      <td>0.914110</td>\n",
       "    </tr>\n",
       "    <tr>\n",
       "      <th>36</th>\n",
       "      <td>GRANDE VITÓRIA</td>\n",
       "      <td>0.972676</td>\n",
       "      <td>0.981989</td>\n",
       "    </tr>\n",
       "    <tr>\n",
       "      <th>37</th>\n",
       "      <td>PRAIA DO CANTO</td>\n",
       "      <td>0.960148</td>\n",
       "      <td>0.855281</td>\n",
       "    </tr>\n",
       "    <tr>\n",
       "      <th>38</th>\n",
       "      <td>ILHA DAS CAIEIRAS</td>\n",
       "      <td>0.940785</td>\n",
       "      <td>1.058919</td>\n",
       "    </tr>\n",
       "    <tr>\n",
       "      <th>39</th>\n",
       "      <td>VILA RUBIM</td>\n",
       "      <td>0.808665</td>\n",
       "      <td>0.638067</td>\n",
       "    </tr>\n",
       "  </tbody>\n",
       "</table>\n",
       "</div>"
      ],
      "text/plain": [
       "          neighbourhood   %showed  %_not_showed\n",
       "0        JARDIM CAMBURI  7.052472      6.466649\n",
       "1           MARIA ORTIZ  5.221016      5.516336\n",
       "2           RESISTÊNCIA  3.988656      4.000362\n",
       "3       JARDIM DA PENHA  3.692525      2.855462\n",
       "4                CENTRO  2.978394      3.145081\n",
       "5          SANTA MARTHA  2.977255      2.212870\n",
       "6               ITARARÉ  2.924862      4.081817\n",
       "7            TABUAZEIRO  2.910056      2.565843\n",
       "8         SANTO ANTÔNIO  2.568366      2.154041\n",
       "9                BONFIM  2.520530      2.479862\n",
       "10    JESUS DE NAZARETH  2.456748      3.145081\n",
       "11               JABOUR  2.341712      2.040909\n",
       "12          SANTO ANDRÉ  2.337156      2.280749\n",
       "13            CARATOÍRA  2.230094      2.638248\n",
       "14            SÃO PEDRO  2.189091      2.307901\n",
       "15       NOVA PALESTINA  2.119614      1.819169\n",
       "16             DA PENHA  2.021663      1.936827\n",
       "17     ILHA DO PRÍNCIPE  1.974966      2.407458\n",
       "18                ROMÃO  1.971549      2.104263\n",
       "19           ANDORINHAS  1.931685      2.240022\n",
       "20             GURIGICA  1.776786      2.054485\n",
       "21             SÃO JOSÉ  1.748311      1.932302\n",
       "22       FORTE SÃO JOÃO  1.742617      1.525025\n",
       "23  ILHA DE SANTA MARIA  1.735783      1.633632\n",
       "24           BELA VISTA  1.724393      1.719613\n",
       "25              MARUÍPE  1.675418      1.900624\n",
       "26        SÃO CRISTÓVÃO  1.673140      1.638157\n",
       "27             REDENÇÃO  1.455597      1.244457\n",
       "28          JOANA D´ARC  1.323477      1.167526\n",
       "29         SÃO BENEDITO  1.310949      1.276134\n",
       "30           CONSOLAÇÃO  1.290447      1.063445\n",
       "31           CRUZAMENTO  1.238055      1.357589\n",
       "32         SANTA TEREZA  1.203886      1.221830\n",
       "33         PRAIA DO SUÁ  1.132131      1.330437\n",
       "34        SANTOS DUMONT  1.031902      1.665309\n",
       "35           INHANGUETÁ  0.973815      0.914110\n",
       "36       GRANDE VITÓRIA  0.972676      0.981989\n",
       "37       PRAIA DO CANTO  0.960148      0.855281\n",
       "38    ILHA DAS CAIEIRAS  0.940785      1.058919\n",
       "39           VILA RUBIM  0.808665      0.638067"
      ]
     },
     "execution_count": 48,
     "metadata": {},
     "output_type": "execute_result"
    }
   ],
   "source": [
    "df_combined.sort_values(by='%showed',ascending = False).head(40)"
   ]
  },
  {
   "cell_type": "code",
   "execution_count": 49,
   "metadata": {},
   "outputs": [],
   "source": [
    "df_combined.set_index('neighbourhood', inplace = True)"
   ]
  },
  {
   "cell_type": "code",
   "execution_count": 50,
   "metadata": {},
   "outputs": [
    {
     "data": {
      "image/png": "[encoded data removed]",
      "text/plain": [
       "<Figure size 1440x720 with 1 Axes>"
      ]
     },
     "metadata": {
      "needs_background": "light"
     },
     "output_type": "display_data"
    }
   ],
   "source": [
    "df_combined.plot(kind='bar',figsize=(20,10));\n",
    "plt.title('% of resident in neighbourhood showed on appointmnet date',fontsize = 15);\n",
    "plt.xlabel('neighbourhood', fontsize=15);\n",
    "plt.ylabel('% of showed & not_showed', fontsize=15);"
   ]
  },
  {
   "cell_type": "markdown",
   "metadata": {},
   "source": [
    "__From above, in general we can see that neighbourhood have no effect on showed at appointmnet date except for ITARARÉ and JESUS DE NAZARETH and SANTOS DUMONT which need further inveatigation__"
   ]
  },
  {
   "cell_type": "markdown",
   "metadata": {},
   "source": [
    "__Factor_2 : scholarship__"
   ]
  },
  {
   "cell_type": "code",
   "execution_count": 51,
   "metadata": {},
   "outputs": [],
   "source": [
    "scholarship_shown_per = df.groupby('no_show')['scholarship'].value_counts(True)[0]*100"
   ]
  },
  {
   "cell_type": "code",
   "execution_count": 52,
   "metadata": {},
   "outputs": [],
   "source": [
    "scholarship_not_shown_per = df.groupby('no_show')['scholarship'].value_counts(True)[1]*100"
   ]
  },
  {
   "cell_type": "code",
   "execution_count": 53,
   "metadata": {},
   "outputs": [],
   "source": [
    "df_showed = pd.DataFrame(scholarship_shown_per)\n",
    "df_not_showed = pd.DataFrame(scholarship_not_shown_per)"
   ]
  },
  {
   "cell_type": "code",
   "execution_count": 54,
   "metadata": {},
   "outputs": [],
   "source": [
    "df_showed.rename(columns={'scholarship':'%showed'},inplace = True)\n",
    "df_not_showed.rename(columns={'scholarship':'%_not_showed'},inplace = True)"
   ]
  },
  {
   "cell_type": "code",
   "execution_count": 55,
   "metadata": {},
   "outputs": [],
   "source": [
    "df_showed.reset_index(inplace = True)\n",
    "df_not_showed.reset_index(inplace = True)"
   ]
  },
  {
   "cell_type": "code",
   "execution_count": 56,
   "metadata": {},
   "outputs": [],
   "source": [
    "df_combined = df_showed.merge(df_not_showed, left_on='scholarship', right_on='scholarship', how='outer')"
   ]
  },
  {
   "cell_type": "code",
   "execution_count": 57,
   "metadata": {},
   "outputs": [],
   "source": [
    "df_combined.set_index('scholarship', inplace=True)"
   ]
  },
  {
   "cell_type": "code",
   "execution_count": 58,
   "metadata": {},
   "outputs": [
    {
     "data": {
      "image/png": "[encoded data removed]",
      "text/plain": [
       "<Figure size 1440x720 with 1 Axes>"
      ]
     },
     "metadata": {
      "needs_background": "light"
     },
     "output_type": "display_data"
    }
   ],
   "source": [
    "df_combined.plot(kind='bar',figsize=(20,10))\n",
    "plt.title('% of resident having scholarship or not showed on appointmnet date',fontsize = 15);\n",
    "plt.xlabel('Scholarship', fontsize=15);\n",
    "plt.ylabel('% of showed & not_showed', fontsize=15);"
   ]
  },
  {
   "cell_type": "markdown",
   "metadata": {},
   "source": [
    "__From above, we can see that scholarsip have no effect on showed at appointmnet date__"
   ]
  },
  {
   "cell_type": "markdown",
   "metadata": {},
   "source": [
    "__Factor_3 : hypertension__"
   ]
  },
  {
   "cell_type": "code",
   "execution_count": 59,
   "metadata": {},
   "outputs": [],
   "source": [
    "hypertension_shown_per = df.groupby('no_show')['hypertension'].value_counts(True)[0]*100"
   ]
  },
  {
   "cell_type": "code",
   "execution_count": 60,
   "metadata": {},
   "outputs": [],
   "source": [
    "hypertension_not_shown_per = df.groupby('no_show')['hypertension'].value_counts(True)[1]*100"
   ]
  },
  {
   "cell_type": "code",
   "execution_count": 61,
   "metadata": {},
   "outputs": [],
   "source": [
    "df_showed = pd.DataFrame(hypertension_shown_per)\n",
    "df_not_showed = pd.DataFrame(hypertension_not_shown_per)"
   ]
  },
  {
   "cell_type": "code",
   "execution_count": 62,
   "metadata": {},
   "outputs": [],
   "source": [
    "df_showed.rename(columns={'hypertension':'%showed'},inplace = True)\n",
    "df_not_showed.rename(columns={'hypertension':'%_not_showed'},inplace = True)"
   ]
  },
  {
   "cell_type": "code",
   "execution_count": 63,
   "metadata": {},
   "outputs": [],
   "source": [
    "df_showed.reset_index(inplace = True)\n",
    "df_not_showed.reset_index(inplace = True)"
   ]
  },
  {
   "cell_type": "code",
   "execution_count": 64,
   "metadata": {},
   "outputs": [],
   "source": [
    "df_combined = df_showed.merge(df_not_showed, left_on='hypertension', right_on='hypertension', how='outer')"
   ]
  },
  {
   "cell_type": "code",
   "execution_count": 65,
   "metadata": {},
   "outputs": [],
   "source": [
    "df_combined.set_index('hypertension',inplace=True)"
   ]
  },
  {
   "cell_type": "code",
   "execution_count": 66,
   "metadata": {},
   "outputs": [
    {
     "data": {
      "image/png": "[encoded data removed]",
      "text/plain": [
       "<Figure size 1440x720 with 1 Axes>"
      ]
     },
     "metadata": {
      "needs_background": "light"
     },
     "output_type": "display_data"
    }
   ],
   "source": [
    "df_combined.plot(kind='bar',figsize=(20,10))\n",
    "plt.title('% of resident having hypertension or not showed on appointmnet date',fontsize = 15);\n",
    "plt.xlabel('Hypertension', fontsize=15);\n",
    "plt.ylabel('% of showed & not_showed', fontsize=15);"
   ]
  },
  {
   "cell_type": "markdown",
   "metadata": {},
   "source": [
    "__From above, we can see that resident with hypertension or not have no effect on showed at appointmnet date__"
   ]
  },
  {
   "cell_type": "markdown",
   "metadata": {},
   "source": [
    "__Factor_4 : diabetes__"
   ]
  },
  {
   "cell_type": "code",
   "execution_count": 67,
   "metadata": {},
   "outputs": [],
   "source": [
    "diabetes_shown_per = df.groupby('no_show')['diabetes'].value_counts(True)[0]*100"
   ]
  },
  {
   "cell_type": "code",
   "execution_count": 68,
   "metadata": {},
   "outputs": [],
   "source": [
    "diabetes_not_shown_per = df.groupby('no_show')['diabetes'].value_counts(True)[1]*100"
   ]
  },
  {
   "cell_type": "code",
   "execution_count": 69,
   "metadata": {},
   "outputs": [],
   "source": [
    "df_showed = pd.DataFrame(diabetes_shown_per)\n",
    "df_not_showed = pd.DataFrame(diabetes_not_shown_per)"
   ]
  },
  {
   "cell_type": "code",
   "execution_count": 70,
   "metadata": {},
   "outputs": [],
   "source": [
    "df_showed.rename(columns={'diabetes':'%showed'},inplace = True)\n",
    "df_not_showed.rename(columns={'diabetes':'%_not_showed'},inplace = True)"
   ]
  },
  {
   "cell_type": "code",
   "execution_count": 71,
   "metadata": {},
   "outputs": [],
   "source": [
    "df_showed.reset_index(inplace = True)\n",
    "df_not_showed.reset_index(inplace = True)"
   ]
  },
  {
   "cell_type": "code",
   "execution_count": 72,
   "metadata": {},
   "outputs": [],
   "source": [
    "df_combined = df_showed.merge(df_not_showed, left_on='diabetes', right_on='diabetes', how='outer')"
   ]
  },
  {
   "cell_type": "code",
   "execution_count": 73,
   "metadata": {},
   "outputs": [],
   "source": [
    "df_combined.set_index('diabetes',inplace = True)"
   ]
  },
  {
   "cell_type": "code",
   "execution_count": 74,
   "metadata": {},
   "outputs": [
    {
     "data": {
      "image/png": "[encoded data removed]",
      "text/plain": [
       "<Figure size 1440x720 with 1 Axes>"
      ]
     },
     "metadata": {
      "needs_background": "light"
     },
     "output_type": "display_data"
    }
   ],
   "source": [
    "df_combined.plot(kind='bar',figsize=(20,10))\n",
    "plt.title('% of resident having diabetes or not showed on appointmnet date',fontsize = 15);\n",
    "plt.xlabel('Diabetes', fontsize=15);\n",
    "plt.ylabel('% of showed & not_showed', fontsize=15);"
   ]
  },
  {
   "cell_type": "markdown",
   "metadata": {},
   "source": [
    "__From above, we can see that resident with diabetes or not have no effect on showed at appointmnet date__"
   ]
  },
  {
   "cell_type": "markdown",
   "metadata": {},
   "source": [
    "__Factor_5 : alcoholism__"
   ]
  },
  {
   "cell_type": "code",
   "execution_count": 75,
   "metadata": {},
   "outputs": [],
   "source": [
    "alcoholism_shown_per = df.groupby('no_show')['alcoholism'].value_counts(True)[0]*100"
   ]
  },
  {
   "cell_type": "code",
   "execution_count": 76,
   "metadata": {},
   "outputs": [],
   "source": [
    "alcoholism_not_shown_per = df.groupby('no_show')['alcoholism'].value_counts(True)[1]*100"
   ]
  },
  {
   "cell_type": "code",
   "execution_count": 77,
   "metadata": {},
   "outputs": [],
   "source": [
    "df_showed = pd.DataFrame(alcoholism_shown_per)\n",
    "df_not_showed = pd.DataFrame(alcoholism_not_shown_per)"
   ]
  },
  {
   "cell_type": "code",
   "execution_count": 78,
   "metadata": {},
   "outputs": [],
   "source": [
    "df_showed.rename(columns={'alcoholism':'%showed'},inplace = True)\n",
    "df_not_showed.rename(columns={'alcoholism':'%_not_showed'},inplace = True)"
   ]
  },
  {
   "cell_type": "code",
   "execution_count": 79,
   "metadata": {},
   "outputs": [],
   "source": [
    "df_showed.reset_index(inplace = True)\n",
    "df_not_showed.reset_index(inplace = True)"
   ]
  },
  {
   "cell_type": "code",
   "execution_count": 80,
   "metadata": {},
   "outputs": [],
   "source": [
    "df_combined = df_showed.merge(df_not_showed, left_on='alcoholism', right_on='alcoholism', how='outer')"
   ]
  },
  {
   "cell_type": "code",
   "execution_count": 81,
   "metadata": {},
   "outputs": [],
   "source": [
    "df_combined.set_index('alcoholism',inplace = True)"
   ]
  },
  {
   "cell_type": "code",
   "execution_count": 82,
   "metadata": {},
   "outputs": [
    {
     "data": {
      "image/png": "[encoded data removed]",
      "text/plain": [
       "<Figure size 1440x720 with 1 Axes>"
      ]
     },
     "metadata": {
      "needs_background": "light"
     },
     "output_type": "display_data"
    }
   ],
   "source": [
    "df_combined.plot(kind='bar',figsize=(20,10))\n",
    "plt.title('% of resident having alcoholism or not showed on appointmnet date',fontsize = 15);\n",
    "plt.xlabel('Alcoholism', fontsize=15);\n",
    "plt.ylabel('% of showed & not_showed', fontsize=15);"
   ]
  },
  {
   "cell_type": "markdown",
   "metadata": {},
   "source": [
    "__From above, we can see that resident with alcoholism or not have no effect on showed at appointmnet date__"
   ]
  },
  {
   "cell_type": "markdown",
   "metadata": {},
   "source": [
    "__Factor_6 : handicap__"
   ]
  },
  {
   "cell_type": "code",
   "execution_count": 83,
   "metadata": {},
   "outputs": [],
   "source": [
    "handicap_shown_per = df.groupby('no_show')['handicap'].value_counts(True)[0]*100"
   ]
  },
  {
   "cell_type": "code",
   "execution_count": 84,
   "metadata": {},
   "outputs": [],
   "source": [
    "handicap_not_shown_per = df.groupby('no_show')['handicap'].value_counts(True)[1]*100"
   ]
  },
  {
   "cell_type": "code",
   "execution_count": 85,
   "metadata": {},
   "outputs": [],
   "source": [
    "df_showed = pd.DataFrame(handicap_shown_per)\n",
    "df_not_showed = pd.DataFrame(handicap_not_shown_per)"
   ]
  },
  {
   "cell_type": "code",
   "execution_count": 86,
   "metadata": {},
   "outputs": [],
   "source": [
    "df_showed.rename(columns={'handicap':'%showed'},inplace = True)\n",
    "df_not_showed.rename(columns={'handicap':'%_not_showed'},inplace = True)"
   ]
  },
  {
   "cell_type": "code",
   "execution_count": 87,
   "metadata": {},
   "outputs": [],
   "source": [
    "df_showed.reset_index(inplace = True)\n",
    "df_not_showed.reset_index(inplace = True)"
   ]
  },
  {
   "cell_type": "code",
   "execution_count": 88,
   "metadata": {},
   "outputs": [],
   "source": [
    "df_combined = df_showed.merge(df_not_showed, left_on='handicap', right_on='handicap', how='outer')"
   ]
  },
  {
   "cell_type": "code",
   "execution_count": 89,
   "metadata": {},
   "outputs": [],
   "source": [
    "df_combined.set_index('handicap',inplace =True)"
   ]
  },
  {
   "cell_type": "code",
   "execution_count": 90,
   "metadata": {},
   "outputs": [
    {
     "data": {
      "image/png": "[encoded data removed]",
      "text/plain": [
       "<Figure size 1440x720 with 1 Axes>"
      ]
     },
     "metadata": {
      "needs_background": "light"
     },
     "output_type": "display_data"
    }
   ],
   "source": [
    "df_combined.plot(kind='bar',figsize=(20,10))\n",
    "plt.title('% of resident having handicap or not showed on appointmnet date',fontsize = 15);\n",
    "plt.xlabel('Handicap', fontsize=15);\n",
    "plt.ylabel('% of showed & not_showed', fontsize=15);"
   ]
  },
  {
   "cell_type": "markdown",
   "metadata": {},
   "source": [
    "__From above, we can see that resident with handicap or not have no effect on showed at appointmnet date__"
   ]
  },
  {
   "cell_type": "markdown",
   "metadata": {},
   "source": [
    "__Factor_7 : sms_received__"
   ]
  },
  {
   "cell_type": "code",
   "execution_count": 91,
   "metadata": {},
   "outputs": [],
   "source": [
    "sms_received_shown_per = df.groupby('no_show')['sms_received'].value_counts(True)[0]*100"
   ]
  },
  {
   "cell_type": "code",
   "execution_count": 92,
   "metadata": {},
   "outputs": [],
   "source": [
    "sms_received_not_shown_per = df.groupby('no_show')['sms_received'].value_counts(True)[1]*100"
   ]
  },
  {
   "cell_type": "code",
   "execution_count": 93,
   "metadata": {},
   "outputs": [],
   "source": [
    "df_showed = pd.DataFrame(sms_received_shown_per)\n",
    "df_not_showed = pd.DataFrame(sms_received_not_shown_per)"
   ]
  },
  {
   "cell_type": "code",
   "execution_count": 94,
   "metadata": {},
   "outputs": [],
   "source": [
    "df_showed.rename(columns={'sms_received':'%showed'},inplace = True)\n",
    "df_not_showed.rename(columns={'sms_received':'%_not_showed'},inplace = True)"
   ]
  },
  {
   "cell_type": "code",
   "execution_count": 95,
   "metadata": {},
   "outputs": [],
   "source": [
    "df_showed.reset_index(inplace = True)\n",
    "df_not_showed.reset_index(inplace = True)"
   ]
  },
  {
   "cell_type": "code",
   "execution_count": 96,
   "metadata": {},
   "outputs": [],
   "source": [
    "df_combined = df_showed.merge(df_not_showed, left_on='sms_received', right_on='sms_received', how='outer')"
   ]
  },
  {
   "cell_type": "code",
   "execution_count": 97,
   "metadata": {},
   "outputs": [],
   "source": [
    "df_combined.set_index('sms_received',inplace=True)"
   ]
  },
  {
   "cell_type": "code",
   "execution_count": 98,
   "metadata": {},
   "outputs": [
    {
     "data": {
      "image/png": "[encoded data removed]",
      "text/plain": [
       "<Figure size 1440x720 with 1 Axes>"
      ]
     },
     "metadata": {
      "needs_background": "light"
     },
     "output_type": "display_data"
    }
   ],
   "source": [
    "df_combined.plot(kind='bar',figsize=(20,10))\n",
    "plt.title('% of resident having sms_received or not showed on appointmnet date',fontsize = 15);\n",
    "plt.xlabel('Sms_Received', fontsize=15);\n",
    "plt.ylabel('% of showed & not_showed', fontsize=15);"
   ]
  },
  {
   "cell_type": "markdown",
   "metadata": {},
   "source": [
    "__From above, we can see that % of resident having sms_received have low showing at appointmnet date__"
   ]
  },
  {
   "cell_type": "markdown",
   "metadata": {},
   "source": [
    "__Factor_8 : week_day__"
   ]
  },
  {
   "cell_type": "code",
   "execution_count": 99,
   "metadata": {},
   "outputs": [],
   "source": [
    "week_day_shown_per = df.groupby('no_show')['week_day'].value_counts(True)[0]*100"
   ]
  },
  {
   "cell_type": "code",
   "execution_count": 100,
   "metadata": {},
   "outputs": [],
   "source": [
    "week_day_not_shown_per = df.groupby('no_show')['week_day'].value_counts(True)[1]*100"
   ]
  },
  {
   "cell_type": "code",
   "execution_count": 101,
   "metadata": {},
   "outputs": [],
   "source": [
    "df_showed = pd.DataFrame(week_day_shown_per)\n",
    "df_not_showed = pd.DataFrame(week_day_not_shown_per)"
   ]
  },
  {
   "cell_type": "code",
   "execution_count": 102,
   "metadata": {},
   "outputs": [],
   "source": [
    "df_showed.rename(columns={'week_day':'%showed'},inplace = True)\n",
    "df_not_showed.rename(columns={'week_day':'%_not_showed'},inplace = True)"
   ]
  },
  {
   "cell_type": "code",
   "execution_count": 103,
   "metadata": {},
   "outputs": [],
   "source": [
    "df_showed.reset_index(inplace = True)\n",
    "df_not_showed.reset_index(inplace = True)"
   ]
  },
  {
   "cell_type": "code",
   "execution_count": 104,
   "metadata": {},
   "outputs": [],
   "source": [
    "df_combined = df_showed.merge(df_not_showed, left_on='week_day', right_on='week_day', how='outer')"
   ]
  },
  {
   "cell_type": "code",
   "execution_count": 105,
   "metadata": {},
   "outputs": [],
   "source": [
    "df_combined.set_index('week_day',inplace = True)"
   ]
  },
  {
   "cell_type": "code",
   "execution_count": 106,
   "metadata": {},
   "outputs": [
    {
     "data": {
      "image/png": "[encoded data removed]",
      "text/plain": [
       "<Figure size 1440x720 with 1 Axes>"
      ]
     },
     "metadata": {
      "needs_background": "light"
     },
     "output_type": "display_data"
    }
   ],
   "source": [
    "df_combined.plot(kind='bar',figsize=(20,10))\n",
    "plt.title('% of resident showed or not upon week day on appointmnet date',fontsize = 15);\n",
    "plt.xlabel('Week Day', fontsize=15);\n",
    "plt.ylabel('% of showed & not_showed', fontsize=15);"
   ]
  },
  {
   "cell_type": "markdown",
   "metadata": {},
   "source": [
    "__From above, we can see that week day have no effect on showed at appointmnet date__"
   ]
  },
  {
   "cell_type": "markdown",
   "metadata": {},
   "source": [
    "__Factor_9 : time_delta__"
   ]
  },
  {
   "cell_type": "code",
   "execution_count": 107,
   "metadata": {},
   "outputs": [],
   "source": [
    "time_delta_shown_per = df.groupby('no_show')['time_delta'].value_counts(True)[0]*100"
   ]
  },
  {
   "cell_type": "code",
   "execution_count": 108,
   "metadata": {},
   "outputs": [],
   "source": [
    "time_delta_not_shown_per = df.groupby('no_show')['time_delta'].value_counts(True)[1]*100"
   ]
  },
  {
   "cell_type": "code",
   "execution_count": 109,
   "metadata": {},
   "outputs": [],
   "source": [
    "df_showed = pd.DataFrame(time_delta_shown_per)\n",
    "df_not_showed = pd.DataFrame(time_delta_not_shown_per)"
   ]
  },
  {
   "cell_type": "code",
   "execution_count": 110,
   "metadata": {},
   "outputs": [],
   "source": [
    "df_showed.rename(columns={'time_delta':'%showed'},inplace = True)\n",
    "df_not_showed.rename(columns={'time_delta':'%_not_showed'},inplace = True)"
   ]
  },
  {
   "cell_type": "code",
   "execution_count": 111,
   "metadata": {},
   "outputs": [],
   "source": [
    "df_showed.reset_index(inplace = True)\n",
    "df_not_showed.reset_index(inplace = True)"
   ]
  },
  {
   "cell_type": "code",
   "execution_count": 112,
   "metadata": {},
   "outputs": [],
   "source": [
    "df_combined = df_showed.merge(df_not_showed, left_on='time_delta', right_on='time_delta', how='outer')"
   ]
  },
  {
   "cell_type": "code",
   "execution_count": 113,
   "metadata": {},
   "outputs": [
    {
     "data": {
      "text/html": [
       "<div>\n",
       "<style scoped>\n",
       "    .dataframe tbody tr th:only-of-type {\n",
       "        vertical-align: middle;\n",
       "    }\n",
       "\n",
       "    .dataframe tbody tr th {\n",
       "        vertical-align: top;\n",
       "    }\n",
       "\n",
       "    .dataframe thead th {\n",
       "        text-align: right;\n",
       "    }\n",
       "</style>\n",
       "<table border=\"1\" class=\"dataframe\">\n",
       "  <thead>\n",
       "    <tr style=\"text-align: right;\">\n",
       "      <th></th>\n",
       "      <th>time_delta</th>\n",
       "      <th>%showed</th>\n",
       "      <th>%_not_showed</th>\n",
       "    </tr>\n",
       "  </thead>\n",
       "  <tbody>\n",
       "    <tr>\n",
       "      <th>0</th>\n",
       "      <td>0 days</td>\n",
       "      <td>41.810271</td>\n",
       "      <td>8.068603</td>\n",
       "    </tr>\n",
       "    <tr>\n",
       "      <th>2</th>\n",
       "      <td>1 days</td>\n",
       "      <td>4.627615</td>\n",
       "      <td>4.973301</td>\n",
       "    </tr>\n",
       "    <tr>\n",
       "      <th>1</th>\n",
       "      <td>2 days</td>\n",
       "      <td>5.811000</td>\n",
       "      <td>7.217848</td>\n",
       "    </tr>\n",
       "    <tr>\n",
       "      <th>7</th>\n",
       "      <td>3 days</td>\n",
       "      <td>2.364492</td>\n",
       "      <td>2.869038</td>\n",
       "    </tr>\n",
       "    <tr>\n",
       "      <th>3</th>\n",
       "      <td>4 days</td>\n",
       "      <td>4.608253</td>\n",
       "      <td>5.534438</td>\n",
       "    </tr>\n",
       "    <tr>\n",
       "      <th>6</th>\n",
       "      <td>5 days</td>\n",
       "      <td>2.735794</td>\n",
       "      <td>3.900806</td>\n",
       "    </tr>\n",
       "    <tr>\n",
       "      <th>5</th>\n",
       "      <td>6 days</td>\n",
       "      <td>3.435119</td>\n",
       "      <td>4.520771</td>\n",
       "    </tr>\n",
       "    <tr>\n",
       "      <th>4</th>\n",
       "      <td>7 days</td>\n",
       "      <td>4.058133</td>\n",
       "      <td>5.878360</td>\n",
       "    </tr>\n",
       "    <tr>\n",
       "      <th>9</th>\n",
       "      <td>8 days</td>\n",
       "      <td>1.872459</td>\n",
       "      <td>3.013847</td>\n",
       "    </tr>\n",
       "    <tr>\n",
       "      <th>12</th>\n",
       "      <td>9 days</td>\n",
       "      <td>1.320061</td>\n",
       "      <td>1.973029</td>\n",
       "    </tr>\n",
       "    <tr>\n",
       "      <th>15</th>\n",
       "      <td>10 days</td>\n",
       "      <td>1.075183</td>\n",
       "      <td>1.963979</td>\n",
       "    </tr>\n",
       "    <tr>\n",
       "      <th>25</th>\n",
       "      <td>11 days</td>\n",
       "      <td>0.758551</td>\n",
       "      <td>1.384741</td>\n",
       "    </tr>\n",
       "    <tr>\n",
       "      <th>20</th>\n",
       "      <td>12 days</td>\n",
       "      <td>0.854224</td>\n",
       "      <td>1.579328</td>\n",
       "    </tr>\n",
       "    <tr>\n",
       "      <th>13</th>\n",
       "      <td>13 days</td>\n",
       "      <td>1.300698</td>\n",
       "      <td>2.411983</td>\n",
       "    </tr>\n",
       "    <tr>\n",
       "      <th>8</th>\n",
       "      <td>14 days</td>\n",
       "      <td>2.261985</td>\n",
       "      <td>4.099919</td>\n",
       "    </tr>\n",
       "    <tr>\n",
       "      <th>14</th>\n",
       "      <td>15 days</td>\n",
       "      <td>1.129853</td>\n",
       "      <td>2.249072</td>\n",
       "    </tr>\n",
       "    <tr>\n",
       "      <th>16</th>\n",
       "      <td>16 days</td>\n",
       "      <td>0.904338</td>\n",
       "      <td>1.574803</td>\n",
       "    </tr>\n",
       "    <tr>\n",
       "      <th>19</th>\n",
       "      <td>17 days</td>\n",
       "      <td>0.858780</td>\n",
       "      <td>1.570278</td>\n",
       "    </tr>\n",
       "    <tr>\n",
       "      <th>22</th>\n",
       "      <td>18 days</td>\n",
       "      <td>0.806387</td>\n",
       "      <td>1.380215</td>\n",
       "    </tr>\n",
       "    <tr>\n",
       "      <th>24</th>\n",
       "      <td>19 days</td>\n",
       "      <td>0.773357</td>\n",
       "      <td>1.592904</td>\n",
       "    </tr>\n",
       "    <tr>\n",
       "      <th>17</th>\n",
       "      <td>20 days</td>\n",
       "      <td>0.874725</td>\n",
       "      <td>1.832745</td>\n",
       "    </tr>\n",
       "    <tr>\n",
       "      <th>10</th>\n",
       "      <td>21 days</td>\n",
       "      <td>1.456736</td>\n",
       "      <td>2.579419</td>\n",
       "    </tr>\n",
       "    <tr>\n",
       "      <th>18</th>\n",
       "      <td>22 days</td>\n",
       "      <td>0.872447</td>\n",
       "      <td>1.823694</td>\n",
       "    </tr>\n",
       "    <tr>\n",
       "      <th>27</th>\n",
       "      <td>23 days</td>\n",
       "      <td>0.618458</td>\n",
       "      <td>1.235406</td>\n",
       "    </tr>\n",
       "    <tr>\n",
       "      <th>33</th>\n",
       "      <td>24 days</td>\n",
       "      <td>0.439641</td>\n",
       "      <td>1.040818</td>\n",
       "    </tr>\n",
       "  </tbody>\n",
       "</table>\n",
       "</div>"
      ],
      "text/plain": [
       "   time_delta    %showed  %_not_showed\n",
       "0      0 days  41.810271      8.068603\n",
       "2      1 days   4.627615      4.973301\n",
       "1      2 days   5.811000      7.217848\n",
       "7      3 days   2.364492      2.869038\n",
       "3      4 days   4.608253      5.534438\n",
       "6      5 days   2.735794      3.900806\n",
       "5      6 days   3.435119      4.520771\n",
       "4      7 days   4.058133      5.878360\n",
       "9      8 days   1.872459      3.013847\n",
       "12     9 days   1.320061      1.973029\n",
       "15    10 days   1.075183      1.963979\n",
       "25    11 days   0.758551      1.384741\n",
       "20    12 days   0.854224      1.579328\n",
       "13    13 days   1.300698      2.411983\n",
       "8     14 days   2.261985      4.099919\n",
       "14    15 days   1.129853      2.249072\n",
       "16    16 days   0.904338      1.574803\n",
       "19    17 days   0.858780      1.570278\n",
       "22    18 days   0.806387      1.380215\n",
       "24    19 days   0.773357      1.592904\n",
       "17    20 days   0.874725      1.832745\n",
       "10    21 days   1.456736      2.579419\n",
       "18    22 days   0.872447      1.823694\n",
       "27    23 days   0.618458      1.235406\n",
       "33    24 days   0.439641      1.040818"
      ]
     },
     "execution_count": 113,
     "metadata": {},
     "output_type": "execute_result"
    }
   ],
   "source": [
    "df_combined.sort_values(by='time_delta',ascending =True).head(25)"
   ]
  },
  {
   "cell_type": "code",
   "execution_count": 114,
   "metadata": {},
   "outputs": [
    {
     "data": {
      "image/png": "[encoded data removed]",
      "text/plain": [
       "<Figure size 1440x720 with 1 Axes>"
      ]
     },
     "metadata": {
      "needs_background": "light"
     },
     "output_type": "display_data"
    }
   ],
   "source": [
    "df_combined.plot(x='time_delta',y='%_not_showed',kind='line' , figsize=(20,10));\n",
    "plt.title('% of resident not showed on appointmnet date versus time delat',fontsize = 15);\n",
    "plt.xlabel('Time Delta', fontsize=15);\n",
    "plt.ylabel('% not_showed', fontsize=15);"
   ]
  },
  {
   "cell_type": "markdown",
   "metadata": {},
   "source": [
    "__From above, we can see that when time difference between appointmnet time and schedule time increase, the % of non showed patient increase.__"
   ]
  },
  {
   "cell_type": "markdown",
   "metadata": {},
   "source": [
    "__Factor_10 : age__"
   ]
  },
  {
   "cell_type": "code",
   "execution_count": 115,
   "metadata": {},
   "outputs": [
    {
     "data": {
      "text/plain": [
       "count    109897.000000\n",
       "mean         37.082969\n",
       "std          23.115363\n",
       "min           0.000000\n",
       "25%          18.000000\n",
       "50%          37.000000\n",
       "75%          55.000000\n",
       "max         100.000000\n",
       "Name: age, dtype: float64"
      ]
     },
     "execution_count": 115,
     "metadata": {},
     "output_type": "execute_result"
    }
   ],
   "source": [
    "df['age'].describe()"
   ]
  },
  {
   "cell_type": "code",
   "execution_count": 116,
   "metadata": {},
   "outputs": [],
   "source": [
    "bin_edges = [0,18,37,55,100]"
   ]
  },
  {
   "cell_type": "code",
   "execution_count": 117,
   "metadata": {},
   "outputs": [],
   "source": [
    "bin_name = ['Children','Youth','Adults','Seniors']"
   ]
  },
  {
   "cell_type": "code",
   "execution_count": 118,
   "metadata": {},
   "outputs": [],
   "source": [
    "df['age_range'] = pd.cut(df['age'],bin_edges,labels=bin_name)"
   ]
  },
  {
   "cell_type": "code",
   "execution_count": 119,
   "metadata": {},
   "outputs": [],
   "source": [
    "age_range_shown_per = df.groupby('no_show')['age_range'].value_counts(True)[0]*100"
   ]
  },
  {
   "cell_type": "code",
   "execution_count": 120,
   "metadata": {},
   "outputs": [],
   "source": [
    "age_range_not_shown_per = df.groupby('no_show')['age_range'].value_counts(True)[1]*100"
   ]
  },
  {
   "cell_type": "code",
   "execution_count": 121,
   "metadata": {},
   "outputs": [],
   "source": [
    "df_showed = pd.DataFrame(age_range_shown_per)\n",
    "df_not_showed = pd.DataFrame(age_range_not_shown_per)"
   ]
  },
  {
   "cell_type": "code",
   "execution_count": 122,
   "metadata": {},
   "outputs": [],
   "source": [
    "df_showed.rename(columns={'age_range':'%showed'},inplace = True)\n",
    "df_not_showed.rename(columns={'age_range':'%_not_showed'},inplace = True)"
   ]
  },
  {
   "cell_type": "code",
   "execution_count": 123,
   "metadata": {},
   "outputs": [],
   "source": [
    "df_showed.reset_index(inplace = True)\n",
    "df_not_showed.reset_index(inplace = True)"
   ]
  },
  {
   "cell_type": "code",
   "execution_count": 124,
   "metadata": {},
   "outputs": [],
   "source": [
    "df_combined = df_showed.merge(df_not_showed, left_on='age_range', right_on='age_range', how='outer')"
   ]
  },
  {
   "cell_type": "code",
   "execution_count": 125,
   "metadata": {},
   "outputs": [],
   "source": [
    "df_combined.set_index('age_range',inplace = True)"
   ]
  },
  {
   "cell_type": "code",
   "execution_count": 126,
   "metadata": {},
   "outputs": [
    {
     "data": {
      "image/png": "[encoded data removed]",
      "text/plain": [
       "<Figure size 1440x720 with 1 Axes>"
      ]
     },
     "metadata": {
      "needs_background": "light"
     },
     "output_type": "display_data"
    }
   ],
   "source": [
    "df_combined.plot(kind='bar',figsize=(20,10))\n",
    "plt.title('% of resident showed or not upon week day on appointmnet date',fontsize = 15);\n",
    "plt.xlabel('Age Range', fontsize=15);\n",
    "plt.ylabel('% of showed & not_showed', fontsize=15);"
   ]
  },
  {
   "cell_type": "markdown",
   "metadata": {},
   "source": [
    "__From above, we can see that % of children and youth not showed at appointment date is hihger. For adult, no difference. For seniors, % of showed is higher.__"
   ]
  },
  {
   "cell_type": "markdown",
   "metadata": {},
   "source": [
    "<a id='conclusions'></a>\n",
    "## Conclusions\n",
    "\n",
    "> 1- Percentage of showen patient is much higher than non showen.<br>2- Certain neighbourhood show high percentage of non showen which need more investigation.<br>3- Unfortunately patient receiving SMS show less showen percentage.<br>4- Alcholism, handicap, hypertension,week day,diabetes and scholarship have no effect on percentage of showen.<br>5- As time difference between scheduale and appointmnet increase, rate of non showen increase.<br>6- As age range increase, percentage of non showen decrease.\n",
    "<br>\n",
    "<br>\n",
    "<a id='conclusions'></a>\n",
    "## Limitation\n",
    "\n",
    "> 1- Neighbourhood need to be more detailed.<br>2- Clarify rules on which Time Delta(diff. between appointment day and scheduale day) depend .<br>3- Patient with medical insurance must be clarified.<br>4- This analysis is only limited to neighbourhood stated in Brazil.\n"
   ]
  },
  {
   "cell_type": "code",
   "execution_count": null,
   "metadata": {},
   "outputs": [],
   "source": []
  }
 ],
 "metadata": {
  "kernelspec": {
   "display_name": "Python 3",
   "language": "python",
   "name": "python3"
  },
  "language_info": {
   "codemirror_mode": {
    "name": "ipython",
    "version": 3
   },
   "file_extension": ".py",
   "mimetype": "text/x-python",
   "name": "python",
   "nbconvert_exporter": "python",
   "pygments_lexer": "ipython3",
   "version": "3.8.6"
  }
 },
 "nbformat": 4,
 "nbformat_minor": 2
}
